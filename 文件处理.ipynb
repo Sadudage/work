{
 "cells": [
  {
   "cell_type": "code",
   "execution_count": 8,
   "id": "10de4c83-e76f-49ff-b45e-887173ec7532",
   "metadata": {},
   "outputs": [],
   "source": [
    "import pandas as pd\n",
    "import os\n",
    "import re\n",
    "import glob\n",
    "from pathlib import Path\n",
    "import argparse\n",
    "import tqdm"
   ]
  },
  {
   "cell_type": "code",
   "execution_count": 9,
   "id": "9046dfe4-f79d-4485-97ab-9e9a10499914",
   "metadata": {},
   "outputs": [],
   "source": [
    "datapath = r'ALL/'"
   ]
  },
  {
   "cell_type": "code",
   "execution_count": 10,
   "id": "3607f45f-1a65-49c7-8e55-57ab3aa9297c",
   "metadata": {},
   "outputs": [],
   "source": [
    "dirs = os.listdir(datapath)"
   ]
  },
  {
   "cell_type": "code",
   "execution_count": 11,
   "id": "9e18cdbb-937a-42ed-824a-e63189d0a1f8",
   "metadata": {},
   "outputs": [],
   "source": [
    "files = []\n",
    "for each in dirs:\n",
    "    filepath = datapath + each\n",
    "    tmpfiles = os.listdir(filepath)\n",
    "    files = files + tmpfiles"
   ]
  },
  {
   "cell_type": "code",
   "execution_count": 12,
   "id": "09e60c90-50ee-4e21-938a-58e5c698f793",
   "metadata": {},
   "outputs": [],
   "source": [
    "files  = list(set(files))"
   ]
  },
  {
   "cell_type": "code",
   "execution_count": null,
   "id": "93f5b46e-9521-4473-af12-eb66e4344a4e",
   "metadata": {},
   "outputs": [],
   "source": []
  },
  {
   "cell_type": "code",
   "execution_count": null,
   "id": "52c6f952-b484-4a64-a71c-6c5478ea2bce",
   "metadata": {},
   "outputs": [],
   "source": []
  },
  {
   "cell_type": "code",
   "execution_count": null,
   "id": "6259e79e-6d27-441f-8210-b1cbd7935809",
   "metadata": {},
   "outputs": [],
   "source": []
  },
  {
   "cell_type": "code",
   "execution_count": 14,
   "id": "2833f845-f78b-4f76-ab7e-17c9dcc04ef2",
   "metadata": {},
   "outputs": [],
   "source": [
    "for filename in files:\n",
    "    try:\n",
    "        codename = filename.split('.')[0]\n",
    "        df = pd.DataFrame()\n",
    "        for path in dirs:\n",
    "            filepath = datapath + path + '/' + filename\n",
    "            if Path(filepath).is_file():\n",
    "                tmpdf = pd.read_csv(filepath)\n",
    "                df = pd.concat([df, tmpdf], axis=0, ignore_index=True)\n",
    "        df = df[df['time'] != 930] \n",
    "        df['code'] = codename\n",
    "        df['datetime'] = pd.to_datetime(\n",
    "            df['date'].astype(str) + ' ' + df['time'].astype(str).str.zfill(4),\n",
    "            format='%Y-%m-%d %H%M'\n",
    "        ).dt.strftime('%-Y/%-m/%-d %-H:%M:%S')\n",
    "    \n",
    "        newdf = df[['datetime','code','open','high','low','close','volume','money']]\n",
    "        newdf.columns = ['datetime','code','open','high','low','close','volume','amount']\n",
    "        newdf.to_csv(filename, index=False)\n",
    "    except Exception as e:\n",
    "        print(f'{filename}出错，原因{e}')"
   ]
  },
  {
   "cell_type": "code",
   "execution_count": null,
   "id": "3de35852-384c-4033-b65f-2a9a125eb24a",
   "metadata": {},
   "outputs": [],
   "source": []
  }
 ],
 "metadata": {
  "kernelspec": {
   "display_name": "Python 3 (ipykernel)",
   "language": "python",
   "name": "python3"
  },
  "language_info": {
   "codemirror_mode": {
    "name": "ipython",
    "version": 3
   },
   "file_extension": ".py",
   "mimetype": "text/x-python",
   "name": "python",
   "nbconvert_exporter": "python",
   "pygments_lexer": "ipython3",
   "version": "3.12.3"
  }
 },
 "nbformat": 4,
 "nbformat_minor": 5
}
