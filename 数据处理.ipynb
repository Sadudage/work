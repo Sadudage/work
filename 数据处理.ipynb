{
 "cells": [
  {
   "cell_type": "code",
   "execution_count": 1,
   "id": "8fd14752-d1dd-46de-a2ea-3edb92c6ee38",
   "metadata": {},
   "outputs": [],
   "source": [
    "import pandas as pd\n",
    "import time\n",
    "import os"
   ]
  },
  {
   "cell_type": "code",
   "execution_count": 2,
   "id": "6c8f101d-7706-449e-8ceb-587ca456b896",
   "metadata": {},
   "outputs": [],
   "source": [
    "def resample_to_xmin(df, rows_per_group):\n",
    "    # 计算需要的组数\n",
    "    num_groups = len(df) // rows_per_group\n",
    "    # 使用 list comprehension 创建聚合的 DataFrame\n",
    "    aggregated_data = []\n",
    "    for i in range(num_groups):\n",
    "        group = df.iloc[i * rows_per_group : (i + 1) * rows_per_group]\n",
    "        aggregated_data.append({\n",
    "            'code': group['code'].iloc[0],  # 假设取第一个\n",
    "            'trade_datetime': group['datetime'].iloc[-1],\n",
    "            # 'trade_dates': group['trade_dates'].iloc[0],\n",
    "            # 'trade_times': group['trade_times'].iloc[-1],\n",
    "            'open': group['open'].iloc[0],\n",
    "            'close': group['close'].iloc[-1],\n",
    "            'low': group['low'].min(),\n",
    "            'high': group['high'].max(),\n",
    "            'volume': group['volume'].sum(),\n",
    "            'amount': group['amount'].sum(),\n",
    "        })\n",
    "    return pd.DataFrame(aggregated_data)"
   ]
  },
  {
   "cell_type": "markdown",
   "id": "d8a790a7-f9a7-4753-867c-46809960f880",
   "metadata": {},
   "source": [
    "# 天粒度"
   ]
  },
  {
   "cell_type": "code",
   "execution_count": 3,
   "id": "44e6cd28-9d8b-41a6-b0d0-6a48730e30f2",
   "metadata": {},
   "outputs": [],
   "source": [
    "datamin = os.listdir('1min')"
   ]
  },
  {
   "cell_type": "code",
   "execution_count": 4,
   "id": "24377980-636b-47c2-b4bc-c30750cd93c6",
   "metadata": {},
   "outputs": [],
   "source": [
    "for mindata in datamin:\n",
    "    read_path = r'1min/' + mindata\n",
    "    tmpdf = pd.read_csv(read_path)\n",
    "    daydf = resample_to_xmin(tmpdf, 240)\n",
    "    path = r'day/' + mindata\n",
    "    daydf.to_csv(path, index=False)"
   ]
  },
  {
   "cell_type": "markdown",
   "id": "eab2fe46-ad1d-4b33-9a90-dc87762721f9",
   "metadata": {},
   "source": [
    "# 30min粒度"
   ]
  },
  {
   "cell_type": "code",
   "execution_count": 5,
   "id": "fca4e946-b864-4881-9e22-63db772c723c",
   "metadata": {},
   "outputs": [],
   "source": [
    "datamin = os.listdir('1min')"
   ]
  },
  {
   "cell_type": "code",
   "execution_count": 6,
   "id": "ae3c277c-6ee8-47bf-a5f9-fca407e1da88",
   "metadata": {},
   "outputs": [],
   "source": [
    "for mindata in datamin:\n",
    "    read_path = r'1min/' + mindata\n",
    "    tmpdf = pd.read_csv(read_path)\n",
    "    daydf = resample_to_xmin(tmpdf, 30)\n",
    "    path = r'30min/' + mindata\n",
    "    daydf.to_csv(path, index=False)"
   ]
  },
  {
   "cell_type": "markdown",
   "id": "d23ffc35-5be1-4803-a62e-63e05030fc09",
   "metadata": {},
   "source": [
    "# 60min粒度"
   ]
  },
  {
   "cell_type": "code",
   "execution_count": 4,
   "id": "65c9fe08-735f-4cdd-b7c2-70587cbbc228",
   "metadata": {},
   "outputs": [],
   "source": [
    "datamin = os.listdir('1min粒度')"
   ]
  },
  {
   "cell_type": "code",
   "execution_count": 5,
   "id": "55f160f1-6091-4678-9dca-a91e0c5acc41",
   "metadata": {},
   "outputs": [],
   "source": [
    "for mindata in datamin:\n",
    "    read_path = r'1min粒度/' + mindata\n",
    "    tmpdf = pd.read_csv(read_path)\n",
    "    daydf = resample_to_xmin(tmpdf, 15)\n",
    "    path = r'15min粒度/' + mindata\n",
    "    daydf.to_csv(path, index=False)"
   ]
  },
  {
   "cell_type": "code",
   "execution_count": null,
   "id": "22f7a18e-9653-44fe-b6d6-12d5b334998c",
   "metadata": {},
   "outputs": [],
   "source": []
  }
 ],
 "metadata": {
  "kernelspec": {
   "display_name": "Python 3 (ipykernel)",
   "language": "python",
   "name": "python3"
  },
  "language_info": {
   "codemirror_mode": {
    "name": "ipython",
    "version": 3
   },
   "file_extension": ".py",
   "mimetype": "text/x-python",
   "name": "python",
   "nbconvert_exporter": "python",
   "pygments_lexer": "ipython3",
   "version": "3.12.3"
  }
 },
 "nbformat": 4,
 "nbformat_minor": 5
}
