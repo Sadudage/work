{
 "cells": [
  {
   "cell_type": "code",
   "execution_count": 1,
   "id": "53b0add8-a721-45ef-bec2-005c776c7985",
   "metadata": {},
   "outputs": [],
   "source": [
    "#!/usr/bin/env python3\n",
    "# fast_clean.py\n",
    "import os, sys, shutil, stat, concurrent.futures, time\n",
    "\n",
    "ROOT = r\"ALL\"          # 要清空的顶层目录\n",
    "WORKERS = min(32, os.cpu_count() + 4)  # IO 密集，线程可略多于核\n",
    "\n",
    "def remove_readonly(func, path, exc):\n",
    "    \"\"\"Windows 专属：遇到只读文件先改权限再删\"\"\"\n",
    "    os.chmod(path, stat.S_IWRITE)\n",
    "    func(path)\n",
    "\n",
    "def wipe_dir(top: str):\n",
    "    \"\"\"暴力删整个目录，不经过回收站\"\"\"\n",
    "    shutil.rmtree(top, onerror=remove_readonly)\n",
    "\n",
    "\n"
   ]
  },
  {
   "cell_type": "code",
   "execution_count": 2,
   "id": "d6aeaaf5-ac63-456f-88ed-b7a277859eea",
   "metadata": {},
   "outputs": [],
   "source": [
    "def main():\n",
    "    t0 = time.perf_counter()\n",
    "    # 1. 快速拿到一级子目录列表（不递归）\n",
    "    dirs = [os.path.join(ROOT, name)\n",
    "            for name in os.listdir(ROOT)\n",
    "            if os.path.isdir(os.path.join(ROOT, name))]\n",
    "    if not dirs:\n",
    "        print(\"没有子目录需要删除。\")\n",
    "        return\n",
    "\n",
    "    # 2. 多线程并行删\n",
    "    with concurrent.futures.ThreadPoolExecutor(max_workers=WORKERS) as exe:\n",
    "        futures = [exe.submit(wipe_dir, d) for d in dirs]\n",
    "        for f in concurrent.futures.as_completed(futures):\n",
    "            if exc := f.exception():\n",
    "                print(\"删失败:\", exc)\n",
    "\n",
    "    print(f\"耗时 {time.perf_counter() - t0:.2f} s\")"
   ]
  },
  {
   "cell_type": "code",
   "execution_count": 3,
   "id": "bcd36164-f37c-4578-9ffe-94fa7aea030a",
   "metadata": {},
   "outputs": [
    {
     "name": "stdout",
     "output_type": "stream",
     "text": [
      "耗时 228.28 s\n"
     ]
    }
   ],
   "source": [
    "main()"
   ]
  },
  {
   "cell_type": "code",
   "execution_count": null,
   "id": "3c2223e0-5703-4b0c-adb7-ef2fc5345e0a",
   "metadata": {},
   "outputs": [],
   "source": []
  },
  {
   "cell_type": "code",
   "execution_count": null,
   "id": "a5ebdd32-1c72-443c-bc8b-904143f77f8a",
   "metadata": {},
   "outputs": [],
   "source": []
  }
 ],
 "metadata": {
  "kernelspec": {
   "display_name": "Python 3 (ipykernel)",
   "language": "python",
   "name": "python3"
  },
  "language_info": {
   "codemirror_mode": {
    "name": "ipython",
    "version": 3
   },
   "file_extension": ".py",
   "mimetype": "text/x-python",
   "name": "python",
   "nbconvert_exporter": "python",
   "pygments_lexer": "ipython3",
   "version": "3.12.3"
  }
 },
 "nbformat": 4,
 "nbformat_minor": 5
}
